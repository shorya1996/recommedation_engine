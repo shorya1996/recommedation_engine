{
 "cells": [
  {
   "cell_type": "code",
   "execution_count": 11,
   "metadata": {},
   "outputs": [],
   "source": [
    "import re\n",
    "\n",
    "def is_phrase_in(phrase, text):\n",
    "    return re.search(r\"\\b{}\\b\".format(phrase), text, re.IGNORECASE) is not None"
   ]
  },
  {
   "cell_type": "code",
   "execution_count": 12,
   "metadata": {},
   "outputs": [],
   "source": [
    "keywords = ['property', 'banking', 'partial payoffs']"
   ]
  },
  {
   "cell_type": "code",
   "execution_count": 13,
   "metadata": {},
   "outputs": [],
   "source": [
    "text1 = '''Search and view property account information. Have partial payoffs ability to banking with any property identifier '''"
   ]
  },
  {
   "cell_type": "code",
   "execution_count": 14,
   "metadata": {},
   "outputs": [],
   "source": [
    "keywords = sorted(keywords, reverse = True)\n",
    "for i in keywords:\n",
    "    if is_phrase_in(i, text1):\n",
    "        #b = \"\"\"<u><mark style=\"color:blue;\">\"\"\" + i + \"</mark></u>\"\n",
    "        b = \"\"\"<a href=# \"\"\" + \"\"\"type=\"\"\"+ i + \"\"\" target=\"_blank\">\"\"\" + i + \"\"\"</a>\"\"\"\n",
    "        text1 = text1.replace(i, b)\n",
    "    else:\n",
    "        pass"
   ]
  },
  {
   "cell_type": "code",
   "execution_count": 15,
   "metadata": {},
   "outputs": [
    {
     "data": {
      "text/plain": [
       "'Search and view <a href=# type=property target=\"_blank\">property</a> account information. Have <a href=# type=partial payoffs target=\"_blank\">partial payoffs</a> ability to <a href=# type=banking target=\"_blank\">banking</a> with any <a href=# type=property target=\"_blank\">property</a> identifier '"
      ]
     },
     "execution_count": 15,
     "metadata": {},
     "output_type": "execute_result"
    }
   ],
   "source": [
    "text1"
   ]
  },
  {
   "cell_type": "code",
   "execution_count": 16,
   "metadata": {},
   "outputs": [],
   "source": [
    "keywords = tuple(keywords)"
   ]
  },
  {
   "cell_type": "code",
   "execution_count": 17,
   "metadata": {},
   "outputs": [
    {
     "data": {
      "text/plain": [
       "('property', 'partial payoffs', 'banking')"
      ]
     },
     "execution_count": 17,
     "metadata": {},
     "output_type": "execute_result"
    }
   ],
   "source": [
    "keywords"
   ]
  },
  {
   "cell_type": "code",
   "execution_count": null,
   "metadata": {},
   "outputs": [],
   "source": []
  }
 ],
 "metadata": {
  "kernelspec": {
   "display_name": "Python 3",
   "language": "python",
   "name": "python3"
  },
  "language_info": {
   "codemirror_mode": {
    "name": "ipython",
    "version": 3
   },
   "file_extension": ".py",
   "mimetype": "text/x-python",
   "name": "python",
   "nbconvert_exporter": "python",
   "pygments_lexer": "ipython3",
   "version": "3.7.3"
  }
 },
 "nbformat": 4,
 "nbformat_minor": 2
}
